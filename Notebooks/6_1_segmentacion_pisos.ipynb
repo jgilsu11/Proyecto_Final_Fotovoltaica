{
 "cells": [
  {
   "cell_type": "code",
   "execution_count": 13,
   "metadata": {},
   "outputs": [],
   "source": [
    "# Tratamiento de datos\n",
    "# -----------------------------------------------------------------------\n",
    "import numpy as np\n",
    "import pandas as pd\n",
    "\n",
    "import matplotlib.pyplot as plt\n",
    "import seaborn as sns\n",
    "pd.set_option(\"display.max_columns\", None)\n",
    "import warnings\n",
    "warnings.filterwarnings(\"ignore\")\n",
    "\n",
    "import sys \n",
    "import os\n",
    "sys.path.append(os.path.abspath(\"../src\"))   \n",
    "import soporte_preprocesamiento as f\n"
   ]
  },
  {
   "cell_type": "code",
   "execution_count": 14,
   "metadata": {},
   "outputs": [],
   "source": [
    "df_formateado=pd.read_pickle(\"../datos/red_piso/Datos_filtrados/datos_pisos_filtrados.pkl\")"
   ]
  },
  {
   "cell_type": "markdown",
   "metadata": {},
   "source": [
    "## **Segmentamos los datos**"
   ]
  },
  {
   "cell_type": "code",
   "execution_count": 15,
   "metadata": {},
   "outputs": [],
   "source": [
    "# creo una nueva columna con las categorías\n",
    "df_formateado[\"categoria\"] = df_formateado[\"metrosvi\"].apply(f.obtener_categoria)"
   ]
  },
  {
   "cell_type": "code",
   "execution_count": 16,
   "metadata": {},
   "outputs": [
    {
     "data": {
      "text/html": [
       "<div>\n",
       "<style scoped>\n",
       "    .dataframe tbody tr th:only-of-type {\n",
       "        vertical-align: middle;\n",
       "    }\n",
       "\n",
       "    .dataframe tbody tr th {\n",
       "        vertical-align: top;\n",
       "    }\n",
       "\n",
       "    .dataframe thead th {\n",
       "        text-align: right;\n",
       "    }\n",
       "</style>\n",
       "<table border=\"1\" class=\"dataframe\">\n",
       "  <thead>\n",
       "    <tr style=\"text-align: right;\">\n",
       "      <th></th>\n",
       "      <th>ascensor</th>\n",
       "      <th>idq_pv</th>\n",
       "      <th>ccaa</th>\n",
       "      <th>ayudas_ccaa</th>\n",
       "      <th>bonificaciones</th>\n",
       "      <th>radiacion_solar</th>\n",
       "      <th>aguacalcent</th>\n",
       "      <th>calefac</th>\n",
       "      <th>metrosvi</th>\n",
       "      <th>naseos</th>\n",
       "      <th>ndormito</th>\n",
       "      <th>valor</th>\n",
       "      <th>nplazasgar</th>\n",
       "      <th>annoedifinterv</th>\n",
       "      <th>accesoedif</th>\n",
       "      <th>estadoedif</th>\n",
       "      <th>categoria</th>\n",
       "    </tr>\n",
       "  </thead>\n",
       "  <tbody>\n",
       "    <tr>\n",
       "      <th>2283</th>\n",
       "      <td>No</td>\n",
       "      <td>Madrid</td>\n",
       "      <td>Madrid</td>\n",
       "      <td>7000</td>\n",
       "      <td>IBI y ICIO</td>\n",
       "      <td>5.74</td>\n",
       "      <td>No</td>\n",
       "      <td>Individual</td>\n",
       "      <td>Entre 46 y 60 m2</td>\n",
       "      <td>1</td>\n",
       "      <td>2</td>\n",
       "      <td>117900</td>\n",
       "      <td>No tiene garaje</td>\n",
       "      <td>De 1961 a 1970</td>\n",
       "      <td>No es accesible</td>\n",
       "      <td>casi perfecto</td>\n",
       "      <td>Viviendas medianas</td>\n",
       "    </tr>\n",
       "    <tr>\n",
       "      <th>489</th>\n",
       "      <td>Si</td>\n",
       "      <td>Madrid</td>\n",
       "      <td>Madrid</td>\n",
       "      <td>7000</td>\n",
       "      <td>IBI y ICIO</td>\n",
       "      <td>5.74</td>\n",
       "      <td>No</td>\n",
       "      <td>Individual</td>\n",
       "      <td>Entre 76 y 90 m2</td>\n",
       "      <td>1</td>\n",
       "      <td>3</td>\n",
       "      <td>220000</td>\n",
       "      <td>No tiene garaje</td>\n",
       "      <td>De 1951 a 1960</td>\n",
       "      <td>No es accesible</td>\n",
       "      <td>Desconocido</td>\n",
       "      <td>Viviendas medianas</td>\n",
       "    </tr>\n",
       "    <tr>\n",
       "      <th>885</th>\n",
       "      <td>Si</td>\n",
       "      <td>Madrid</td>\n",
       "      <td>Madrid</td>\n",
       "      <td>7000</td>\n",
       "      <td>IBI y ICIO</td>\n",
       "      <td>5.74</td>\n",
       "      <td>No</td>\n",
       "      <td>No tiene calefacción</td>\n",
       "      <td>Entre 76 y 90 m2</td>\n",
       "      <td>1</td>\n",
       "      <td>3</td>\n",
       "      <td>176900</td>\n",
       "      <td>No tiene garaje</td>\n",
       "      <td>Desconocido</td>\n",
       "      <td>Es accesible</td>\n",
       "      <td>levemente mejorable</td>\n",
       "      <td>Viviendas medianas</td>\n",
       "    </tr>\n",
       "    <tr>\n",
       "      <th>1038</th>\n",
       "      <td>Si</td>\n",
       "      <td>Madrid</td>\n",
       "      <td>Madrid</td>\n",
       "      <td>7000</td>\n",
       "      <td>IBI y ICIO</td>\n",
       "      <td>5.74</td>\n",
       "      <td>No</td>\n",
       "      <td>Individual</td>\n",
       "      <td>Entre 31 y 45 m2</td>\n",
       "      <td>1</td>\n",
       "      <td>2</td>\n",
       "      <td>240000</td>\n",
       "      <td>No tiene garaje</td>\n",
       "      <td>De 1921 a 1940</td>\n",
       "      <td>No es accesible</td>\n",
       "      <td>levemente mejorable</td>\n",
       "      <td>Viviendas pequeñas</td>\n",
       "    </tr>\n",
       "    <tr>\n",
       "      <th>3661</th>\n",
       "      <td>Si</td>\n",
       "      <td>Toledo</td>\n",
       "      <td>Castilla-La Mancha</td>\n",
       "      <td>4500</td>\n",
       "      <td>IBI y ICIO</td>\n",
       "      <td>5.78</td>\n",
       "      <td>No</td>\n",
       "      <td>No tiene calefacción</td>\n",
       "      <td>Entre 91 y 105 m2</td>\n",
       "      <td>2</td>\n",
       "      <td>3</td>\n",
       "      <td>159000</td>\n",
       "      <td>No tiene garaje</td>\n",
       "      <td>De 1971 a 1980</td>\n",
       "      <td>No es accesible</td>\n",
       "      <td>casi perfecto</td>\n",
       "      <td>Viviendas amplias</td>\n",
       "    </tr>\n",
       "    <tr>\n",
       "      <th>2834</th>\n",
       "      <td>Si</td>\n",
       "      <td>Madrid</td>\n",
       "      <td>Madrid</td>\n",
       "      <td>7000</td>\n",
       "      <td>IBI y ICIO</td>\n",
       "      <td>5.74</td>\n",
       "      <td>No</td>\n",
       "      <td>Individual</td>\n",
       "      <td>Entre 91 y 105 m2</td>\n",
       "      <td>2</td>\n",
       "      <td>3</td>\n",
       "      <td>239000</td>\n",
       "      <td>1</td>\n",
       "      <td>De 1981 a 1990</td>\n",
       "      <td>No es accesible</td>\n",
       "      <td>casi perfecto</td>\n",
       "      <td>Viviendas amplias</td>\n",
       "    </tr>\n",
       "    <tr>\n",
       "      <th>1935</th>\n",
       "      <td>Si</td>\n",
       "      <td>Madrid</td>\n",
       "      <td>Madrid</td>\n",
       "      <td>7000</td>\n",
       "      <td>IBI y ICIO</td>\n",
       "      <td>5.74</td>\n",
       "      <td>No</td>\n",
       "      <td>Individual</td>\n",
       "      <td>Más de 180 m2</td>\n",
       "      <td>2</td>\n",
       "      <td>4</td>\n",
       "      <td>310000</td>\n",
       "      <td>2</td>\n",
       "      <td>Posterior a 2010</td>\n",
       "      <td>Es accesible</td>\n",
       "      <td>casi perfecto</td>\n",
       "      <td>Viviendas grandes</td>\n",
       "    </tr>\n",
       "  </tbody>\n",
       "</table>\n",
       "</div>"
      ],
      "text/plain": [
       "     ascensor  idq_pv                ccaa  ayudas_ccaa bonificaciones  \\\n",
       "2283       No  Madrid              Madrid         7000     IBI y ICIO   \n",
       "489        Si  Madrid              Madrid         7000     IBI y ICIO   \n",
       "885        Si  Madrid              Madrid         7000     IBI y ICIO   \n",
       "1038       Si  Madrid              Madrid         7000     IBI y ICIO   \n",
       "3661       Si  Toledo  Castilla-La Mancha         4500     IBI y ICIO   \n",
       "2834       Si  Madrid              Madrid         7000     IBI y ICIO   \n",
       "1935       Si  Madrid              Madrid         7000     IBI y ICIO   \n",
       "\n",
       "      radiacion_solar aguacalcent               calefac           metrosvi  \\\n",
       "2283             5.74          No            Individual   Entre 46 y 60 m2   \n",
       "489              5.74          No            Individual   Entre 76 y 90 m2   \n",
       "885              5.74          No  No tiene calefacción   Entre 76 y 90 m2   \n",
       "1038             5.74          No            Individual   Entre 31 y 45 m2   \n",
       "3661             5.78          No  No tiene calefacción  Entre 91 y 105 m2   \n",
       "2834             5.74          No            Individual  Entre 91 y 105 m2   \n",
       "1935             5.74          No            Individual      Más de 180 m2   \n",
       "\n",
       "     naseos ndormito   valor       nplazasgar    annoedifinterv  \\\n",
       "2283      1        2  117900  No tiene garaje    De 1961 a 1970   \n",
       "489       1        3  220000  No tiene garaje    De 1951 a 1960   \n",
       "885       1        3  176900  No tiene garaje       Desconocido   \n",
       "1038      1        2  240000  No tiene garaje    De 1921 a 1940   \n",
       "3661      2        3  159000  No tiene garaje    De 1971 a 1980   \n",
       "2834      2        3  239000                1    De 1981 a 1990   \n",
       "1935      2        4  310000                2  Posterior a 2010   \n",
       "\n",
       "           accesoedif           estadoedif           categoria  \n",
       "2283  No es accesible        casi perfecto  Viviendas medianas  \n",
       "489   No es accesible          Desconocido  Viviendas medianas  \n",
       "885      Es accesible  levemente mejorable  Viviendas medianas  \n",
       "1038  No es accesible  levemente mejorable  Viviendas pequeñas  \n",
       "3661  No es accesible        casi perfecto   Viviendas amplias  \n",
       "2834  No es accesible        casi perfecto   Viviendas amplias  \n",
       "1935     Es accesible        casi perfecto   Viviendas grandes  "
      ]
     },
     "execution_count": 16,
     "metadata": {},
     "output_type": "execute_result"
    }
   ],
   "source": [
    "df_formateado.sample(7)"
   ]
  },
  {
   "cell_type": "code",
   "execution_count": 17,
   "metadata": {},
   "outputs": [
    {
     "data": {
      "text/plain": [
       "categoria\n",
       "Viviendas medianas    1916\n",
       "Viviendas amplias     1262\n",
       "Viviendas grandes      530\n",
       "Viviendas pequeñas     177\n",
       "Name: count, dtype: int64"
      ]
     },
     "execution_count": 17,
     "metadata": {},
     "output_type": "execute_result"
    }
   ],
   "source": [
    "df_formateado[\"categoria\"].value_counts()"
   ]
  },
  {
   "cell_type": "code",
   "execution_count": 18,
   "metadata": {},
   "outputs": [],
   "source": [
    "df_pequeñas=df_formateado[df_formateado[\"categoria\"]== \"Viviendas pequeñas\"]\n",
    "df_medianas=df_formateado[df_formateado[\"categoria\"]== \"Viviendas medianas\"]\n",
    "df_amplias=df_formateado[df_formateado[\"categoria\"]== \"Viviendas amplias\"]\n",
    "df_grandes=df_formateado[df_formateado[\"categoria\"]== \"Viviendas grandes\"]"
   ]
  },
  {
   "cell_type": "code",
   "execution_count": 19,
   "metadata": {},
   "outputs": [],
   "source": [
    "df_pequeñas.to_csv(\"../datos/red_piso/Datos_segmentados/datos_red_piso_pequeñas.csv\")\n",
    "df_medianas.to_csv(\"../datos/red_piso/Datos_segmentados/datos_red_piso_medianas.csv\")\n",
    "df_amplias.to_csv(\"../datos/red_piso/Datos_segmentados/datos_red_piso_amplias.csv\")\n",
    "df_grandes.to_csv(\"../datos/red_piso/Datos_segmentados/datos_red_piso_grandes.csv\")"
   ]
  },
  {
   "cell_type": "markdown",
   "metadata": {},
   "source": [
    "**ASEGURAMOS QUE SE HAN CLASIFICADO CORRECTAMENTE**"
   ]
  },
  {
   "cell_type": "code",
   "execution_count": 20,
   "metadata": {},
   "outputs": [
    {
     "data": {
      "text/plain": [
       "array(['Entre 31 y 45 m2', 'Hasta 30 m2'], dtype=object)"
      ]
     },
     "execution_count": 20,
     "metadata": {},
     "output_type": "execute_result"
    }
   ],
   "source": [
    "df_pequeñas[\"metrosvi\"].unique()"
   ]
  },
  {
   "cell_type": "code",
   "execution_count": 21,
   "metadata": {},
   "outputs": [
    {
     "data": {
      "text/plain": [
       "array(['Entre 46 y 60 m2', 'Entre 61 y 75 m2', 'Entre 76 y 90 m2'],\n",
       "      dtype=object)"
      ]
     },
     "execution_count": 21,
     "metadata": {},
     "output_type": "execute_result"
    }
   ],
   "source": [
    "df_medianas[\"metrosvi\"].unique()"
   ]
  },
  {
   "cell_type": "code",
   "execution_count": 22,
   "metadata": {},
   "outputs": [
    {
     "data": {
      "text/plain": [
       "array(['Entre 121 y 150 m2', 'Entre 91 y 105 m2', 'Entre 106 y 120 m2'],\n",
       "      dtype=object)"
      ]
     },
     "execution_count": 22,
     "metadata": {},
     "output_type": "execute_result"
    }
   ],
   "source": [
    "df_amplias[\"metrosvi\"].unique()"
   ]
  },
  {
   "cell_type": "code",
   "execution_count": 23,
   "metadata": {},
   "outputs": [
    {
     "data": {
      "text/plain": [
       "array(['Más de 180 m2', 'Entre 151 y 180 m2'], dtype=object)"
      ]
     },
     "execution_count": 23,
     "metadata": {},
     "output_type": "execute_result"
    }
   ],
   "source": [
    "df_grandes[\"metrosvi\"].unique()"
   ]
  },
  {
   "cell_type": "code",
   "execution_count": 24,
   "metadata": {},
   "outputs": [
    {
     "data": {
      "image/png": "[encoded data removed]",
      "text/plain": [
       "<Figure size 1000x600 with 1 Axes>"
      ]
     },
     "metadata": {},
     "output_type": "display_data"
    }
   ],
   "source": [
    "plt.figure(figsize=(10,6))\n",
    "sns.countplot(x=\"categoria\", data=df_formateado, palette=\"mako\")\n",
    "plt.title(\"Distribución de viviendas por categoría\")\n",
    "plt.show();"
   ]
  }
 ],
 "metadata": {
  "kernelspec": {
   "display_name": "proyecto_final_bootcamp",
   "language": "python",
   "name": "python3"
  },
  "language_info": {
   "codemirror_mode": {
    "name": "ipython",
    "version": 3
   },
   "file_extension": ".py",
   "mimetype": "text/x-python",
   "name": "python",
   "nbconvert_exporter": "python",
   "pygments_lexer": "ipython3",
   "version": "3.11.9"
  }
 },
 "nbformat": 4,
 "nbformat_minor": 2
}
